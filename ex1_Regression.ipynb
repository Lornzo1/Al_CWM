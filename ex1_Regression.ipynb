{
  "nbformat": 4,
  "nbformat_minor": 0,
  "metadata": {
    "colab": {
      "provenance": [],
      "include_colab_link": true
    },
    "kernelspec": {
      "name": "python3",
      "display_name": "Python 3"
    },
    "language_info": {
      "name": "python"
    }
  },
  "cells": [
    {
      "cell_type": "markdown",
      "metadata": {
        "id": "view-in-github",
        "colab_type": "text"
      },
      "source": [
        "<a href=\"https://colab.research.google.com/github/Lornzo1/Al_CWM/blob/main/ex1_Regression.ipynb\" target=\"_parent\"><img src=\"https://colab.research.google.com/assets/colab-badge.svg\" alt=\"Open In Colab\"/></a>"
      ]
    },
    {
      "cell_type": "markdown",
      "source": [
        "**You should fully understand the code and add code to appropriate places. You are suggested to read through all comments/annotations as they may help you understand code or indicate where you need to add code.**"
      ],
      "metadata": {
        "id": "paugtnSjdlJz"
      }
    },
    {
      "cell_type": "markdown",
      "source": [
        "\n",
        "**Question 1.** Below we generated a dataset. Please:\n",
        "1. visualize the true function $y=\\sin(\\pi x)$\n",
        "2. on the generated training data, do linear regression to fit the data by the np.linalg.solve function (https://numpy.org/doc/stable/reference/generated/numpy.linalg.solve.html). You might encounter error, and please think about why and how to fix it.\n",
        "3. visualize the fitted function.\n"
      ],
      "metadata": {
        "id": "KF3EC4bjh9GZ"
      }
    },
    {
      "cell_type": "code",
      "metadata": {
        "id": "3AdxAZQ5EcKK"
      },
      "source": [
        "import numpy as np\n",
        "import matplotlib.pyplot as plt\n",
        "import math\n",
        "pi=math.pi\n",
        "\n",
        "# generate 20 numbers from -1 to 1 with equal stepsize\n",
        "x=np.linspace(-1,1,20)\n",
        "\n",
        "# generate training target (noise contaminated!)\n",
        "y=np.sin(pi*x)+0.3*np.random.randn(x.size)\n",
        "\n",
        "# plot the training data points\n",
        "plt.plot(x, y, 'ro')\n",
        "\n",
        "# TODO: plot the true function here\n"
      ],
      "execution_count": null,
      "outputs": []
    },
    {
      "cell_type": "code",
      "source": [
        "X = [x]\n",
        "X.append(np.ones(x.shape))\n",
        "X = np.array(X).T\n",
        "print(X.shape)\n",
        "\n",
        "# TODO: solve the linear system by np.linalg.solve\n",
        "theta =\n",
        "\n",
        "# TODO: get the prediction\n",
        "yhat =\n",
        "\n",
        "plt.plot(x,y,'o', x, yhat)\n",
        "\n",
        "# plot the true function\n",
        "plt.plot(np.linspace(-1,1,50), np.sin(2*pi*.5*np.linspace(-1,1,50)), 'black')"
      ],
      "metadata": {
        "id": "ZpgBiWOU9y6J"
      },
      "execution_count": null,
      "outputs": []
    },
    {
      "cell_type": "markdown",
      "source": [
        "**Question 2**. Use the training set provided below along with the validation set to answer the following questions.\n",
        "\n",
        "1. Gradually add features of higher degrees and solve the linear regression. How do the validation and testing errors change as you increase the number of features?\n",
        "\n",
        "To clarify, originally, we have 20 data points with only one scalar feature. Now, add polynomial features so you have $1, x, x^2, x^3, \\ldots, x^M$, resulting in $M+1$ features (the additional one is a constant unit, representing the intercept of the line). This expansion will produce a 20-by-$(M+1)$ data matrix."
      ],
      "metadata": {
        "id": "YskBVhXN9_7m"
      }
    },
    {
      "cell_type": "markdown",
      "source": [
        "2. Using a fixed number of basis functions, say $M=10$, test with different regularization weights: $0, 0.0001, 0.001, 0.01, 0.1$. Repeat the procedure described in above question and observe the changes in validation error. Additionally, print out the norm of the solution for each regularization weight.\n",
        "\n",
        "Questions to answer:\n",
        "- How does the validation error change with different regularization weights?\n",
        "- What do you observe about the norms of the solutions?\n",
        "- Why do you think the norm changes in the way it does as the regularization weight increases?"
      ],
      "metadata": {
        "id": "KSpPmFSAShLN"
      }
    },
    {
      "cell_type": "markdown",
      "source": [
        "3. Increase the number of basis: ($1, 5, 10, 15, 20$), check the norm of weight again. What do you find and why? Note: you should divide the $l2$ norm by the square root of number of columns to get a fair comparison."
      ],
      "metadata": {
        "id": "5g4kwEBAGCCO"
      }
    },
    {
      "cell_type": "code",
      "source": [
        "import numpy as np\n",
        "import matplotlib.pyplot as plt\n",
        "import math\n",
        "pi=math.pi\n",
        "# generate 10 numbers from -1 to 1 with equal stepsize\n",
        "x=np.linspace(-1,1,10)\n",
        "\n",
        "# generate training target (noise contaminated!)\n",
        "y=np.sin(2*pi*.5*x)+0.4*np.random.randn(x.size)\n",
        "\n",
        "# define a validation set\n",
        "xv=np.linspace(-1,1,20)\n",
        "yv=np.sin(2*pi*.5*xv)+0.4*np.random.randn(xv.size)\n",
        "\n",
        "plt.plot(x,y,'ro', xv, yv,'gx')"
      ],
      "metadata": {
        "id": "z6CHm0pkMpV4",
        "colab": {
          "base_uri": "https://localhost:8080/",
          "height": 465
        },
        "outputId": "5489b4a8-3217-49f4-b718-72791b8762a7"
      },
      "execution_count": null,
      "outputs": [
        {
          "output_type": "execute_result",
          "data": {
            "text/plain": [
              "[<matplotlib.lines.Line2D at 0x7fcc90cfd9f0>,\n",
              " <matplotlib.lines.Line2D at 0x7fcc90cfda80>]"
            ]
          },
          "metadata": {},
          "execution_count": 3
        },
        {
          "output_type": "display_data",
          "data": {
            "text/plain": [
              "<Figure size 640x480 with 1 Axes>"
            ],
            "image/png": "[encoded data removed]"
          },
          "metadata": {}
        }
      ]
    },
    {
      "cell_type": "code",
      "source": [
        "error_val= []\n",
        "error_train = []\n",
        "# try increasing number of basis\n",
        "for M in [1, 2, 4, 8, 16, 20]:\n",
        "  plt.figure()\n",
        "\n",
        "  basis = np.arange(M+1)\n",
        "  # TODO: create feature with polynomial basis: so the 1st column is 1, 2nd is x, 3rd is x^2, x^3, ...\n",
        "  # You are suggested to USE broadcasting,instead of for loop to generate X\n",
        "  X =\n",
        "  print(X.shape)\n",
        "\n",
        "  # TODO: get the solution with regularization term (you can simply set reg=0 to remove the regularization effect)\n",
        "  reg = 0.000001\n",
        "  theta =\n",
        "  yhat =\n",
        "  # plot the fitted function\n",
        "  plt.plot(x,yhat, label='fitted')\n",
        "\n",
        "  # plot the train and validation data\n",
        "  plt.plot(x,y,'ro', label='train')\n",
        "\n",
        "  # show labels\n",
        "  plt.legend()\n",
        "\n",
        "  # compute val error and train error\n",
        "  # TODO: use the same polynomial feature for validation dataset to get Xv\n",
        "  Xv =\n",
        "  # TODO: get predictions on the validation data\n",
        "  yhat_val =\n",
        "  error = np.sum((yv - yhat_val)**2)\n",
        "  error_t = np.sum((y - yhat)**2)\n",
        "\n",
        "  error_val.append(error)\n",
        "  error_train.append(error_t)\n",
        "\n",
        "# visualize how validation error changes as we increase basis\n",
        "plt.figure()\n",
        "plt.plot(error_val, label='val-err')\n",
        "plt.plot(error_train, label='train-err')\n",
        "plt.legend()"
      ],
      "metadata": {
        "id": "7DJgTALEICwa"
      },
      "execution_count": null,
      "outputs": []
    },
    {
      "cell_type": "markdown",
      "source": [
        "**Question 3.** Assume you have previously trained a linear regression model on a dataset $(X, y)$ using a regularization weight. However, the feature matrix $X$, an $n$-by-$d$ matrix, is accidentally contaminated with zero-mean Gaussian noise. This noise is independent of the data and has a reasonably small constant variance. Consequently, your feature matrix becomes $X + \\epsilon$, where $\\epsilon$ is an $n$-by-$d$ matrix with entries independently sampled from the same Gaussian distribution. You may wonder if you should be concerned about significant changes in your solution. Please provide mathematical reasoning to support your answer. Additionally, you may consider conducting empirical tests to further investigate your opinion or conjecture.\n",
        "\n",
        "Hint: To simplify your analysis, considering the effect of adding such noise to a single training example may be sufficient."
      ],
      "metadata": {
        "id": "AKp3abjbQdxU"
      }
    },
    {
      "cell_type": "code",
      "source": [
        "# DO NOT change the code in this cell\n",
        "import pandas as pd\n",
        "import numpy as np\n",
        "np.random.seed(0)\n",
        "fileloc = 'https://raw.githubusercontent.com/yannickycpan/oxford-engs-AIML-cwm/main/realestate.txt'\n",
        "dataset = pd.read_csv(fileloc)\n",
        "dataset = dataset.values\n",
        "np.random.shuffle(dataset)\n",
        "print(dataset.shape)\n",
        "tn = 300\n",
        "X, y = dataset[:tn,:-1], dataset[:tn,-1]\n",
        "Xval, yval = dataset[tn:,:-1], dataset[tn:,-1]\n",
        "print(X.shape, y.shape)"
      ],
      "metadata": {
        "id": "gf2JxHjWQdGU"
      },
      "execution_count": null,
      "outputs": []
    },
    {
      "cell_type": "code",
      "source": [
        "np.random.seed(0)\n",
        "\n",
        "reg=0.1\n",
        "sig = 0.01\n",
        "\n",
        "# TODO: compute the solution on the original dataset with regularization weight reg=0.1\n",
        "theta =\n",
        "\n",
        "# add noise to the dataset\n",
        "NX = X + np.random.normal(0., sig, X.shape)\n",
        "# TODO: compute the solution using the perturbed dataset\n",
        "# you might test the solution with and without regularization\n",
        "ntheta =\n",
        "\n",
        "## print out the validation error on both original and perturbed data\n",
        "print(np.sum((Xval@theta-yval)**2), np.sum((Xval@ntheta-yval)**2))"
      ],
      "metadata": {
        "id": "JTs0iWJvdmyO"
      },
      "execution_count": null,
      "outputs": []
    }
  ]
}